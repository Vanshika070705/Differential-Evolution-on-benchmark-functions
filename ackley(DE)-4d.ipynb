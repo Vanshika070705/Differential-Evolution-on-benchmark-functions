{
 "cells": [
  {
   "cell_type": "code",
   "execution_count": 1,
   "metadata": {
    "execution": {
     "iopub.execute_input": "2025-07-07T18:37:20.989203Z",
     "iopub.status.busy": "2025-07-07T18:37:20.988643Z",
     "iopub.status.idle": "2025-07-07T18:37:20.995947Z",
     "shell.execute_reply": "2025-07-07T18:37:20.995290Z"
    },
    "executionInfo": {
     "elapsed": 6,
     "status": "ok",
     "timestamp": 1748848574426,
     "user": {
      "displayName": "Vanshika Malik",
      "userId": "17973672456059116080"
     },
     "user_tz": -330
    },
    "id": "FQPxJlyhT2aw"
   },
   "outputs": [],
   "source": [
    "# Differential Evolution on a 4-D Ackley Function + Timing + Complexity (Google Colab)\n",
    "\n",
    "import numpy as np\n",
    "import time"
   ]
  },
  {
   "cell_type": "code",
   "execution_count": 2,
   "metadata": {
    "execution": {
     "iopub.execute_input": "2025-07-07T18:37:20.999938Z",
     "iopub.status.busy": "2025-07-07T18:37:20.999435Z",
     "iopub.status.idle": "2025-07-07T18:37:21.008225Z",
     "shell.execute_reply": "2025-07-07T18:37:21.007509Z"
    },
    "executionInfo": {
     "elapsed": 2,
     "status": "ok",
     "timestamp": 1748848574432,
     "user": {
      "displayName": "Vanshika Malik",
      "userId": "17973672456059116080"
     },
     "user_tz": -330
    },
    "id": "oTDnTT2XUHQR"
   },
   "outputs": [],
   "source": [
    "# -------------------- Ackley Function Definition --------------------\n",
    "def ackley(x):\n",
    "    \"\"\"\n",
    "    Standard n-dimensional Ackley function:\n",
    "      f(x) = -20 * exp(-0.2 * sqrt((1/n) * sum(x_i^2)))\n",
    "             - exp((1/n) * sum(cos(2π x_i)))\n",
    "             + 20 + e\n",
    "    Global minimum at x = [0,0,...,0], f(x) = 0.\n",
    "    \"\"\"\n",
    "    a = 50.0\n",
    "    b = 0.2\n",
    "    c = 2.0 * np.pi\n",
    "    n = len(x)\n",
    "\n",
    "    sum_sq_term = np.sum(x**2)\n",
    "    cos_term   = np.sum(np.cos(c * x))\n",
    "\n",
    "    term1 = -a * np.exp(-b * np.sqrt(sum_sq_term / n))\n",
    "    term2 = -np.exp(cos_term / n)\n",
    "    return term1 + term2 + a + np.e"
   ]
  },
  {
   "cell_type": "code",
   "execution_count": 3,
   "metadata": {
    "colab": {
     "base_uri": "https://localhost:8080/"
    },
    "execution": {
     "iopub.execute_input": "2025-07-07T18:37:21.012250Z",
     "iopub.status.busy": "2025-07-07T18:37:21.011707Z",
     "iopub.status.idle": "2025-07-07T18:37:21.044989Z",
     "shell.execute_reply": "2025-07-07T18:37:21.044175Z"
    },
    "executionInfo": {
     "elapsed": 10,
     "status": "ok",
     "timestamp": 1748848603518,
     "user": {
      "displayName": "Vanshika Malik",
      "userId": "17973672456059116080"
     },
     "user_tz": -330
    },
    "id": "hFKHHbAQUHL6",
    "outputId": "a088c4d0-f4d4-44f0-b497-d56ea99dfa2c"
   },
   "outputs": [
    {
     "name": "stdout",
     "output_type": "stream",
     "text": [
      "Generation 0: Best fitness = 4.482868e+01, Best vector = [-12.82918037   1.6224375   -4.46005126 -13.68200707]\n"
     ]
    }
   ],
   "source": [
    "# -------------------- Problem & DE Parameters --------------------\n",
    "D = 4                     # Dimension (4-D Ackley)\n",
    "lower_bound = -32.768     # Lower bound for each x_i\n",
    "upper_bound =  32.768     # Upper bound for each x_i\n",
    "\n",
    "NP = 30          # Population size\n",
    "F  = 0.85       # Scaling (mutation) factor\n",
    "CR = 0.8        # Crossover probability\n",
    "max_generations = 100   # Max generations before forced stop\n",
    "tol = 1e-6      # Termination tolerance on best fitness\n",
    "\n",
    "\n",
    "# -------------------- Initialization --------------------\n",
    "np.random.seed(42)\n",
    "# Create NP random candidates uniformly in [lower_bound, upper_bound]^D\n",
    "pop = np.random.uniform(low=lower_bound, high=upper_bound, size=(NP, D))\n",
    "\n",
    "# Evaluate initial population fitness\n",
    "fitness = np.array([ackley(ind) for ind in pop])\n",
    "\n",
    "# Track global best so far\n",
    "best_idx     = np.argmin(fitness)\n",
    "best_vector  = pop[best_idx].copy()\n",
    "best_fitness = fitness[best_idx]\n",
    "\n",
    "print(f\"Generation 0: Best fitness = {best_fitness:.6e}, Best vector = {best_vector}\")\n"
   ]
  },
  {
   "cell_type": "code",
   "execution_count": 4,
   "metadata": {
    "execution": {
     "iopub.execute_input": "2025-07-07T18:37:21.099421Z",
     "iopub.status.busy": "2025-07-07T18:37:21.098964Z",
     "iopub.status.idle": "2025-07-07T18:37:21.103024Z",
     "shell.execute_reply": "2025-07-07T18:37:21.102327Z"
    },
    "executionInfo": {
     "elapsed": 78,
     "status": "ok",
     "timestamp": 1748848605320,
     "user": {
      "displayName": "Vanshika Malik",
      "userId": "17973672456059116080"
     },
     "user_tz": -330
    },
    "id": "zJCNFnsqUHG_"
   },
   "outputs": [],
   "source": [
    "# -------------------- Start Timing --------------------\n",
    "start_time = time.perf_counter()\n"
   ]
  },
  {
   "cell_type": "code",
   "execution_count": 5,
   "metadata": {
    "colab": {
     "base_uri": "https://localhost:8080/"
    },
    "execution": {
     "iopub.execute_input": "2025-07-07T18:37:21.108274Z",
     "iopub.status.busy": "2025-07-07T18:37:21.107929Z",
     "iopub.status.idle": "2025-07-07T18:37:21.443680Z",
     "shell.execute_reply": "2025-07-07T18:37:21.442936Z"
    },
    "executionInfo": {
     "elapsed": 368,
     "status": "ok",
     "timestamp": 1748848605963,
     "user": {
      "displayName": "Vanshika Malik",
      "userId": "17973672456059116080"
     },
     "user_tz": -330
    },
    "id": "Y_NQUb9DUHAd",
    "outputId": "2a5d66af-0b4b-47be-c295-a221b60d6160"
   },
   "outputs": [
    {
     "name": "stdout",
     "output_type": "stream",
     "text": [
      "Generation   1: Best fitness = 4.482868e+01, Best vector = [-12.82918037   1.6224375   -4.46005126 -13.68200707]\n",
      "Generation   2: Best fitness = 4.482868e+01, Best vector = [-12.82918037   1.6224375   -4.46005126 -13.68200707]\n",
      "Generation   3: Best fitness = 4.482868e+01, Best vector = [-12.82918037   1.6224375   -4.46005126 -13.68200707]\n",
      "Generation   4: Best fitness = 4.482868e+01, Best vector = [-12.82918037   1.6224375   -4.46005126 -13.68200707]\n",
      "Generation   5: Best fitness = 3.514723e+01, Best vector = [-2.71420633 -6.18754157 -2.04860083 -8.75811024]\n",
      "Generation   6: Best fitness = 3.514723e+01, Best vector = [-2.71420633 -6.18754157 -2.04860083 -8.75811024]\n",
      "Generation   7: Best fitness = 3.514723e+01, Best vector = [-2.71420633 -6.18754157 -2.04860083 -8.75811024]\n",
      "Generation   8: Best fitness = 3.335476e+01, Best vector = [-3.24848352 -9.82592984  1.01628511 -0.89485763]\n",
      "Generation   9: Best fitness = 3.335476e+01, Best vector = [-3.24848352 -9.82592984  1.01628511 -0.89485763]\n",
      "Generation  10: Best fitness = 2.467442e+01, Best vector = [ 4.57636409 -0.20220602  2.89025649 -3.10955675]\n",
      "Generation  11: Best fitness = 2.467442e+01, Best vector = [ 4.57636409 -0.20220602  2.89025649 -3.10955675]\n",
      "Generation  12: Best fitness = 2.467442e+01, Best vector = [ 4.57636409 -0.20220602  2.89025649 -3.10955675]\n",
      "Generation  13: Best fitness = 2.467442e+01, Best vector = [ 4.57636409 -0.20220602  2.89025649 -3.10955675]\n",
      "Generation  14: Best fitness = 2.467442e+01, Best vector = [ 4.57636409 -0.20220602  2.89025649 -3.10955675]\n",
      "Generation  15: Best fitness = 2.467442e+01, Best vector = [ 4.57636409 -0.20220602  2.89025649 -3.10955675]\n",
      "Generation  16: Best fitness = 2.467442e+01, Best vector = [ 4.57636409 -0.20220602  2.89025649 -3.10955675]\n",
      "Generation  17: Best fitness = 2.467442e+01, Best vector = [ 4.57636409 -0.20220602  2.89025649 -3.10955675]\n",
      "Generation  18: Best fitness = 2.467442e+01, Best vector = [ 4.57636409 -0.20220602  2.89025649 -3.10955675]\n",
      "Generation  19: Best fitness = 2.352986e+01, Best vector = [ 1.77962119 -4.64974216 -2.9753571  -0.87117407]\n",
      "Generation  20: Best fitness = 2.289377e+01, Best vector = [ 3.89101611 -1.888247   -1.03003153 -4.03565971]\n",
      "Generation  21: Best fitness = 2.198190e+01, Best vector = [ 4.47511879 -0.71917971 -2.07898007  1.29389514]\n",
      "Generation  22: Best fitness = 2.162328e+01, Best vector = [ 4.56008731 -1.888247    0.63397837 -0.81489861]\n",
      "Generation  23: Best fitness = 1.836987e+01, Best vector = [ 2.51158843  2.35066013 -1.87610454 -0.74023657]\n",
      "Generation  24: Best fitness = 1.420945e+01, Best vector = [ 0.35461395 -0.27247431 -1.31968902  2.39562229]\n",
      "Generation  25: Best fitness = 1.420945e+01, Best vector = [ 0.35461395 -0.27247431 -1.31968902  2.39562229]\n",
      "Generation  26: Best fitness = 7.550606e+00, Best vector = [-0.51964215 -0.5742374  -0.95182613  0.10798415]\n",
      "Generation  27: Best fitness = 7.550606e+00, Best vector = [-0.51964215 -0.5742374  -0.95182613  0.10798415]\n",
      "Generation  28: Best fitness = 7.550606e+00, Best vector = [-0.51964215 -0.5742374  -0.95182613  0.10798415]\n",
      "Generation  29: Best fitness = 7.550606e+00, Best vector = [-0.51964215 -0.5742374  -0.95182613  0.10798415]\n",
      "Generation  30: Best fitness = 7.550606e+00, Best vector = [-0.51964215 -0.5742374  -0.95182613  0.10798415]\n",
      "Generation  31: Best fitness = 7.550606e+00, Best vector = [-0.51964215 -0.5742374  -0.95182613  0.10798415]\n",
      "Generation  32: Best fitness = 7.550606e+00, Best vector = [-0.51964215 -0.5742374  -0.95182613  0.10798415]\n",
      "Generation  33: Best fitness = 7.550606e+00, Best vector = [-0.51964215 -0.5742374  -0.95182613  0.10798415]\n",
      "Generation  34: Best fitness = 6.413567e+00, Best vector = [-0.6781722  -0.69783525  0.22935862 -0.06871349]\n",
      "Generation  35: Best fitness = 6.413567e+00, Best vector = [-0.6781722  -0.69783525  0.22935862 -0.06871349]\n",
      "Generation  36: Best fitness = 5.797772e+00, Best vector = [ 0.54838332 -0.48362512 -0.1344925  -0.26246108]\n",
      "Generation  37: Best fitness = 5.605585e+00, Best vector = [-0.07532787  0.02598988  0.36434044  0.86166329]\n",
      "Generation  38: Best fitness = 5.605585e+00, Best vector = [-0.07532787  0.02598988  0.36434044  0.86166329]\n"
     ]
    },
    {
     "name": "stdout",
     "output_type": "stream",
     "text": [
      "Generation  39: Best fitness = 5.605585e+00, Best vector = [-0.07532787  0.02598988  0.36434044  0.86166329]\n",
      "Generation  40: Best fitness = 5.605585e+00, Best vector = [-0.07532787  0.02598988  0.36434044  0.86166329]\n",
      "Generation  41: Best fitness = 5.605585e+00, Best vector = [-0.07532787  0.02598988  0.36434044  0.86166329]\n",
      "Generation  42: Best fitness = 5.605585e+00, Best vector = [-0.07532787  0.02598988  0.36434044  0.86166329]\n",
      "Generation  43: Best fitness = 5.605585e+00, Best vector = [-0.07532787  0.02598988  0.36434044  0.86166329]\n",
      "Generation  44: Best fitness = 5.479219e+00, Best vector = [-0.43103113  0.3693514  -0.36328531  0.19255444]\n",
      "Generation  45: Best fitness = 5.479219e+00, Best vector = [-0.43103113  0.3693514  -0.36328531  0.19255444]\n",
      "Generation  46: Best fitness = 4.216853e+00, Best vector = [-0.03329144 -0.12123018 -0.0361518  -0.64061209]\n",
      "Generation  47: Best fitness = 2.582837e+00, Best vector = [ 0.1653747  -0.12123018  0.2194994  -0.11579262]\n",
      "Generation  48: Best fitness = 2.582837e+00, Best vector = [ 0.1653747  -0.12123018  0.2194994  -0.11579262]\n",
      "Generation  49: Best fitness = 2.582837e+00, Best vector = [ 0.1653747  -0.12123018  0.2194994  -0.11579262]\n",
      "Generation  50: Best fitness = 2.582837e+00, Best vector = [ 0.1653747  -0.12123018  0.2194994  -0.11579262]\n",
      "Generation  51: Best fitness = 2.093286e+00, Best vector = [ 0.01456401 -0.14312873  0.17601356  0.14473716]\n",
      "Generation  52: Best fitness = 2.093286e+00, Best vector = [ 0.01456401 -0.14312873  0.17601356  0.14473716]\n",
      "Generation  53: Best fitness = 1.925012e+00, Best vector = [ 0.04431045 -0.12922318 -0.08662251  0.19378509]\n",
      "Generation  54: Best fitness = 1.196963e+00, Best vector = [-0.00914008 -0.02455223 -0.15214678 -0.07485245]\n",
      "Generation  55: Best fitness = 1.196963e+00, Best vector = [-0.00914008 -0.02455223 -0.15214678 -0.07485245]\n",
      "Generation  56: Best fitness = 9.119726e-01, Best vector = [ 0.07437445 -0.03162382  0.09679127 -0.05238881]\n",
      "Generation  57: Best fitness = 9.119726e-01, Best vector = [ 0.07437445 -0.03162382  0.09679127 -0.05238881]\n",
      "Generation  58: Best fitness = 7.333971e-01, Best vector = [-0.0253114   0.05167554  0.09679127 -0.01911967]\n",
      "Generation  59: Best fitness = 7.333971e-01, Best vector = [-0.0253114   0.05167554  0.09679127 -0.01911967]\n",
      "Generation  60: Best fitness = 7.333971e-01, Best vector = [-0.0253114   0.05167554  0.09679127 -0.01911967]\n",
      "Generation  61: Best fitness = 4.157514e-01, Best vector = [-0.01806794  0.05103751 -0.02153095 -0.03944001]\n",
      "Generation  62: Best fitness = 4.157514e-01, Best vector = [-0.01806794  0.05103751 -0.02153095 -0.03944001]\n",
      "Generation  63: Best fitness = 4.157514e-01, Best vector = [-0.01806794  0.05103751 -0.02153095 -0.03944001]\n",
      "Generation  64: Best fitness = 4.157514e-01, Best vector = [-0.01806794  0.05103751 -0.02153095 -0.03944001]\n"
     ]
    },
    {
     "name": "stdout",
     "output_type": "stream",
     "text": [
      "Generation  65: Best fitness = 4.157514e-01, Best vector = [-0.01806794  0.05103751 -0.02153095 -0.03944001]\n",
      "Generation  66: Best fitness = 4.157514e-01, Best vector = [-0.01806794  0.05103751 -0.02153095 -0.03944001]\n",
      "Generation  67: Best fitness = 2.618305e-01, Best vector = [-0.00111867  0.04651207  0.00399246 -0.00018977]\n",
      "Generation  68: Best fitness = 2.618305e-01, Best vector = [-0.00111867  0.04651207  0.00399246 -0.00018977]\n",
      "Generation  69: Best fitness = 2.618305e-01, Best vector = [-0.00111867  0.04651207  0.00399246 -0.00018977]\n",
      "Generation  70: Best fitness = 2.618305e-01, Best vector = [-0.00111867  0.04651207  0.00399246 -0.00018977]\n",
      "Generation  71: Best fitness = 2.618305e-01, Best vector = [-0.00111867  0.04651207  0.00399246 -0.00018977]\n",
      "Generation  72: Best fitness = 2.618305e-01, Best vector = [-0.00111867  0.04651207  0.00399246 -0.00018977]\n",
      "Generation  73: Best fitness = 2.618305e-01, Best vector = [-0.00111867  0.04651207  0.00399246 -0.00018977]\n",
      "Generation  74: Best fitness = 2.440879e-01, Best vector = [ 0.02414631 -0.02856479 -0.00412388 -0.02241805]\n",
      "Generation  75: Best fitness = 2.440879e-01, Best vector = [ 0.02414631 -0.02856479 -0.00412388 -0.02241805]\n",
      "Generation  76: Best fitness = 2.440879e-01, Best vector = [ 0.02414631 -0.02856479 -0.00412388 -0.02241805]\n",
      "Generation  77: Best fitness = 2.256125e-01, Best vector = [-0.0253114   0.01585438  0.00421984 -0.02743336]\n",
      "Generation  78: Best fitness = 1.565902e-01, Best vector = [-0.00144713  0.01892519  0.00318302 -0.02182286]\n",
      "Generation  79: Best fitness = 9.855874e-02, Best vector = [-0.01608258 -0.00894    -0.00356512 -0.00125043]\n",
      "Generation  80: Best fitness = 9.855874e-02, Best vector = [-0.01608258 -0.00894    -0.00356512 -0.00125043]\n",
      "Generation  81: Best fitness = 7.370985e-02, Best vector = [-0.00913533  0.0107334   0.00180237 -0.00018977]\n",
      "Generation  82: Best fitness = 7.370985e-02, Best vector = [-0.00913533  0.0107334   0.00180237 -0.00018977]\n",
      "Generation  83: Best fitness = 7.370985e-02, Best vector = [-0.00913533  0.0107334   0.00180237 -0.00018977]\n",
      "Generation  84: Best fitness = 7.370985e-02, Best vector = [-0.00913533  0.0107334   0.00180237 -0.00018977]\n",
      "Generation  85: Best fitness = 7.370985e-02, Best vector = [-0.00913533  0.0107334   0.00180237 -0.00018977]\n",
      "Generation  86: Best fitness = 7.370985e-02, Best vector = [-0.00913533  0.0107334   0.00180237 -0.00018977]\n",
      "Generation  87: Best fitness = 7.117887e-02, Best vector = [-0.00333196 -0.01258753  0.00387398 -0.00205211]\n",
      "Generation  88: Best fitness = 7.117887e-02, Best vector = [-0.00333196 -0.01258753  0.00387398 -0.00205211]\n",
      "Generation  89: Best fitness = 7.117887e-02, Best vector = [-0.00333196 -0.01258753  0.00387398 -0.00205211]\n",
      "Generation  90: Best fitness = 6.971065e-02, Best vector = [-0.00587831  0.01067069 -0.00061184 -0.00570237]\n",
      "Generation  91: Best fitness = 4.567397e-02, Best vector = [ 0.00456267 -0.00289157 -0.00660497  0.00261785]\n",
      "Generation  92: Best fitness = 4.567397e-02, Best vector = [ 0.00456267 -0.00289157 -0.00660497  0.00261785]\n",
      "Generation  93: Best fitness = 4.567397e-02, Best vector = [ 0.00456267 -0.00289157 -0.00660497  0.00261785]\n",
      "Generation  94: Best fitness = 4.567397e-02, Best vector = [ 0.00456267 -0.00289157 -0.00660497  0.00261785]\n",
      "Generation  95: Best fitness = 2.553809e-02, Best vector = [-0.00096805  0.00320767  0.00213083  0.00310519]\n",
      "Generation  96: Best fitness = 1.490353e-02, Best vector = [-0.00194355 -0.00096424 -0.00123315 -0.00158746]\n",
      "Generation  97: Best fitness = 1.490353e-02, Best vector = [-0.00194355 -0.00096424 -0.00123315 -0.00158746]\n",
      "Generation  98: Best fitness = 1.490353e-02, Best vector = [-0.00194355 -0.00096424 -0.00123315 -0.00158746]\n",
      "Generation  99: Best fitness = 1.490353e-02, Best vector = [-0.00194355 -0.00096424 -0.00123315 -0.00158746]\n"
     ]
    },
    {
     "name": "stdout",
     "output_type": "stream",
     "text": [
      "Generation 100: Best fitness = 1.490353e-02, Best vector = [-0.00194355 -0.00096424 -0.00123315 -0.00158746]\n"
     ]
    }
   ],
   "source": [
    "# -------------------- DE Main Loop --------------------\n",
    "generation = 0\n",
    "best_history = [] # Initialize the list to store best fitness per generation\n",
    "while generation < max_generations and best_fitness > tol:\n",
    "    generation += 1\n",
    "\n",
    "    for i in range(NP):\n",
    "        # 1) Mutation: choose r1, r2, r3 distinct from i\n",
    "        idxs = list(range(NP))\n",
    "        idxs.remove(i)\n",
    "        r1, r2, r3 = np.random.choice(idxs, size=3, replace=False)\n",
    "        x_r1, x_r2, x_r3 = pop[r1], pop[r2], pop[r3]\n",
    "\n",
    "        donor = x_r1 + F * (x_r2 - x_r3)\n",
    "        donor = np.clip(donor, lower_bound, upper_bound)\n",
    "\n",
    "        # 2) Binomial Crossover\n",
    "        trial = np.empty(D)\n",
    "        j_rand = np.random.randint(D)\n",
    "        for j in range(D):\n",
    "            if np.random.rand() < CR or j == j_rand:\n",
    "                trial[j] = donor[j]\n",
    "            else:\n",
    "                trial[j] = pop[i, j]\n",
    "\n",
    "        # 3) Selection\n",
    "        f_trial = ackley(trial)\n",
    "        if f_trial <= fitness[i]:\n",
    "            pop[i] = trial\n",
    "            fitness[i] = f_trial\n",
    "            if f_trial < best_fitness:\n",
    "                best_fitness = f_trial\n",
    "                best_vector  = trial.copy()\n",
    "\n",
    "    print(f\"Generation {generation:3d}: Best fitness = {best_fitness:.6e}, Best vector = {best_vector}\")\n",
    "\n",
    "    # Append the best fitness of the current generation to best_history\n",
    "    best_history.append(best_fitness)\n",
    "\n",
    "\n",
    "    if best_fitness <= tol:\n",
    "        print(f\"\\nTerminated at generation {generation} (fitness ≤ {tol}).\")\n",
    "        break\n",
    "\n",
    "end_time = time.perf_counter()\n",
    "elapsed = end_time - start_time"
   ]
  },
  {
   "cell_type": "code",
   "execution_count": 6,
   "metadata": {
    "colab": {
     "base_uri": "https://localhost:8080/"
    },
    "execution": {
     "iopub.execute_input": "2025-07-07T18:37:21.449908Z",
     "iopub.status.busy": "2025-07-07T18:37:21.448463Z",
     "iopub.status.idle": "2025-07-07T18:37:21.457901Z",
     "shell.execute_reply": "2025-07-07T18:37:21.457174Z"
    },
    "executionInfo": {
     "elapsed": 6,
     "status": "ok",
     "timestamp": 1748848607506,
     "user": {
      "displayName": "Vanshika Malik",
      "userId": "17973672456059116080"
     },
     "user_tz": -330
    },
    "id": "RRT8V4d_UG2f",
    "outputId": "8934622e-08a4-4890-c628-b3b84d141fd9"
   },
   "outputs": [
    {
     "name": "stdout",
     "output_type": "stream",
     "text": [
      "\n",
      "Reached max generations (100) without hitting fitness ≤ 1e-06.\n",
      "\n",
      "Final best fitness = 1.490353e-02\n",
      "Final best vector = [-0.00194355 -0.00096424 -0.00123315 -0.00158746]\n",
      "\n",
      "▶ Total elapsed time: 0.3391 seconds\n"
     ]
    }
   ],
   "source": [
    "# -------------------- Final Output --------------------\n",
    "if best_fitness > tol:\n",
    "    print(f\"\\nReached max generations ({max_generations}) without hitting fitness ≤ {tol}.\")\n",
    "print(f\"\\nFinal best fitness = {best_fitness:.6e}\")\n",
    "print(f\"Final best vector = {best_vector}\")\n",
    "print(f\"\\n▶ Total elapsed time: {elapsed:.4f} seconds\")\n"
   ]
  },
  {
   "cell_type": "code",
   "execution_count": 7,
   "metadata": {
    "colab": {
     "base_uri": "https://localhost:8080/"
    },
    "execution": {
     "iopub.execute_input": "2025-07-07T18:37:21.463525Z",
     "iopub.status.busy": "2025-07-07T18:37:21.462080Z",
     "iopub.status.idle": "2025-07-07T18:37:21.471879Z",
     "shell.execute_reply": "2025-07-07T18:37:21.471142Z"
    },
    "executionInfo": {
     "elapsed": 9,
     "status": "ok",
     "timestamp": 1748848608420,
     "user": {
      "displayName": "Vanshika Malik",
      "userId": "17973672456059116080"
     },
     "user_tz": -330
    },
    "id": "OCdlF43aU0zK",
    "outputId": "ce582fe4-caf3-460d-eeaa-65c6435a77d6"
   },
   "outputs": [
    {
     "name": "stdout",
     "output_type": "stream",
     "text": [
      "\n",
      "--- Theoretical Complexity ---\n",
      "Time Complexity (per run):   O(NP × D × G_max)\n",
      "  • NP = population size\n",
      "  • D  = dimension (here = 4)\n",
      "  • G_max = number of generations until convergence\n",
      "Space Complexity:            O(NP × D)\n",
      "  • We store NP candidate vectors of dimension D each\n"
     ]
    }
   ],
   "source": [
    "# -------------------- Complexity Summary --------------------\n",
    "print(\"\\n--- Theoretical Complexity ---\")\n",
    "print(\"Time Complexity (per run):   O(NP × D × G_max)\")\n",
    "print(\"  • NP = population size\")\n",
    "print(\"  • D  = dimension (here = 4)\")\n",
    "print(\"  • G_max = number of generations until convergence\")\n",
    "print(\"Space Complexity:            O(NP × D)\")\n",
    "print(\"  • We store NP candidate vectors of dimension D each\")\n"
   ]
  },
  {
   "cell_type": "code",
   "execution_count": 8,
   "metadata": {
    "colab": {
     "base_uri": "https://localhost:8080/",
     "height": 542
    },
    "execution": {
     "iopub.execute_input": "2025-07-07T18:37:21.477611Z",
     "iopub.status.busy": "2025-07-07T18:37:21.476120Z",
     "iopub.status.idle": "2025-07-07T18:37:21.669197Z",
     "shell.execute_reply": "2025-07-07T18:37:21.668394Z"
    },
    "executionInfo": {
     "elapsed": 5,
     "status": "ok",
     "timestamp": 1748848610155,
     "user": {
      "displayName": "Vanshika Malik",
      "userId": "17973672456059116080"
     },
     "user_tz": -330
    },
    "id": "ZfScFfRyVn9R",
    "outputId": "c6c3d496-d77d-48df-ec9e-27cbb5df676b"
   },
   "outputs": [
    {
     "data": {
      "text/html": [
       "<html>\n",
       "<head><meta charset=\"utf-8\" /></head>\n",
       "<body>\n",
       "    <div>            <script src=\"https://cdnjs.cloudflare.com/ajax/libs/mathjax/2.7.5/MathJax.js?config=TeX-AMS-MML_SVG\"></script><script type=\"text/javascript\">if (window.MathJax && window.MathJax.Hub && window.MathJax.Hub.Config) {window.MathJax.Hub.Config({SVG: {font: \"STIX-Web\"}});}</script>                <script type=\"text/javascript\">window.PlotlyConfig = {MathJaxConfig: 'local'};</script>\n",
       "        <script charset=\"utf-8\" src=\"https://cdn.plot.ly/plotly-2.35.2.min.js\"></script>                <div id=\"b281da7f-20f9-4dc1-b31a-c603fee0e5fa\" class=\"plotly-graph-div\" style=\"height:525px; width:100%;\"></div>            <script type=\"text/javascript\">                                    window.PLOTLYENV=window.PLOTLYENV || {};                                    if (document.getElementById(\"b281da7f-20f9-4dc1-b31a-c603fee0e5fa\")) {                    Plotly.newPlot(                        \"b281da7f-20f9-4dc1-b31a-c603fee0e5fa\",                        [{\"mode\":\"lines+markers\",\"name\":\"Best Fitness\",\"x\":[0,1,2,3,4,5,6,7,8,9,10,11,12,13,14,15,16,17,18,19,20,21,22,23,24,25,26,27,28,29,30,31,32,33,34,35,36,37,38,39,40,41,42,43,44,45,46,47,48,49,50,51,52,53,54,55,56,57,58,59,60,61,62,63,64,65,66,67,68,69,70,71,72,73,74,75,76,77,78,79,80,81,82,83,84,85,86,87,88,89,90,91,92,93,94,95,96,97,98,99],\"y\":[44.828677340931144,44.828677340931144,44.828677340931144,44.828677340931144,35.14723366894168,35.14723366894168,35.14723366894168,33.35475643703236,33.35475643703236,24.674420992194804,24.674420992194804,24.674420992194804,24.674420992194804,24.674420992194804,24.674420992194804,24.674420992194804,24.674420992194804,24.674420992194804,23.529862080033258,22.89377327392015,21.981896892610628,21.623277708108212,18.369874211267668,14.209450059900366,14.209450059900366,7.550605595668035,7.550605595668035,7.550605595668035,7.550605595668035,7.550605595668035,7.550605595668035,7.550605595668035,7.550605595668035,6.413567491580988,6.413567491580988,5.79777217695278,5.605584583737848,5.605584583737848,5.605584583737848,5.605584583737848,5.605584583737848,5.605584583737848,5.605584583737848,5.479219033801112,5.479219033801112,4.216852837604588,2.582837075852997,2.582837075852997,2.582837075852997,2.582837075852997,2.0932857803534017,2.0932857803534017,1.9250115325676345,1.196963200414825,1.196963200414825,0.911972589432136,0.911972589432136,0.7333971086772917,0.7333971086772917,0.7333971086772917,0.41575136419529146,0.41575136419529146,0.41575136419529146,0.41575136419529146,0.41575136419529146,0.41575136419529146,0.26183054347665946,0.26183054347665946,0.26183054347665946,0.26183054347665946,0.26183054347665946,0.26183054347665946,0.26183054347665946,0.2440878923746408,0.2440878923746408,0.2440878923746408,0.2256125229628947,0.1565902331013871,0.09855873743734778,0.09855873743734778,0.07370985473799552,0.07370985473799552,0.07370985473799552,0.07370985473799552,0.07370985473799552,0.07370985473799552,0.07117886776871218,0.07117886776871218,0.07117886776871218,0.06971065217724659,0.04567396663661727,0.04567396663661727,0.04567396663661727,0.04567396663661727,0.02553808675471858,0.014903528300383773,0.014903528300383773,0.014903528300383773,0.014903528300383773,0.014903528300383773],\"type\":\"scatter\"}],                        {\"template\":{\"data\":{\"histogram2dcontour\":[{\"type\":\"histogram2dcontour\",\"colorbar\":{\"outlinewidth\":0,\"ticks\":\"\"},\"colorscale\":[[0.0,\"#0d0887\"],[0.1111111111111111,\"#46039f\"],[0.2222222222222222,\"#7201a8\"],[0.3333333333333333,\"#9c179e\"],[0.4444444444444444,\"#bd3786\"],[0.5555555555555556,\"#d8576b\"],[0.6666666666666666,\"#ed7953\"],[0.7777777777777778,\"#fb9f3a\"],[0.8888888888888888,\"#fdca26\"],[1.0,\"#f0f921\"]]}],\"choropleth\":[{\"type\":\"choropleth\",\"colorbar\":{\"outlinewidth\":0,\"ticks\":\"\"}}],\"histogram2d\":[{\"type\":\"histogram2d\",\"colorbar\":{\"outlinewidth\":0,\"ticks\":\"\"},\"colorscale\":[[0.0,\"#0d0887\"],[0.1111111111111111,\"#46039f\"],[0.2222222222222222,\"#7201a8\"],[0.3333333333333333,\"#9c179e\"],[0.4444444444444444,\"#bd3786\"],[0.5555555555555556,\"#d8576b\"],[0.6666666666666666,\"#ed7953\"],[0.7777777777777778,\"#fb9f3a\"],[0.8888888888888888,\"#fdca26\"],[1.0,\"#f0f921\"]]}],\"heatmap\":[{\"type\":\"heatmap\",\"colorbar\":{\"outlinewidth\":0,\"ticks\":\"\"},\"colorscale\":[[0.0,\"#0d0887\"],[0.1111111111111111,\"#46039f\"],[0.2222222222222222,\"#7201a8\"],[0.3333333333333333,\"#9c179e\"],[0.4444444444444444,\"#bd3786\"],[0.5555555555555556,\"#d8576b\"],[0.6666666666666666,\"#ed7953\"],[0.7777777777777778,\"#fb9f3a\"],[0.8888888888888888,\"#fdca26\"],[1.0,\"#f0f921\"]]}],\"heatmapgl\":[{\"type\":\"heatmapgl\",\"colorbar\":{\"outlinewidth\":0,\"ticks\":\"\"},\"colorscale\":[[0.0,\"#0d0887\"],[0.1111111111111111,\"#46039f\"],[0.2222222222222222,\"#7201a8\"],[0.3333333333333333,\"#9c179e\"],[0.4444444444444444,\"#bd3786\"],[0.5555555555555556,\"#d8576b\"],[0.6666666666666666,\"#ed7953\"],[0.7777777777777778,\"#fb9f3a\"],[0.8888888888888888,\"#fdca26\"],[1.0,\"#f0f921\"]]}],\"contourcarpet\":[{\"type\":\"contourcarpet\",\"colorbar\":{\"outlinewidth\":0,\"ticks\":\"\"}}],\"contour\":[{\"type\":\"contour\",\"colorbar\":{\"outlinewidth\":0,\"ticks\":\"\"},\"colorscale\":[[0.0,\"#0d0887\"],[0.1111111111111111,\"#46039f\"],[0.2222222222222222,\"#7201a8\"],[0.3333333333333333,\"#9c179e\"],[0.4444444444444444,\"#bd3786\"],[0.5555555555555556,\"#d8576b\"],[0.6666666666666666,\"#ed7953\"],[0.7777777777777778,\"#fb9f3a\"],[0.8888888888888888,\"#fdca26\"],[1.0,\"#f0f921\"]]}],\"surface\":[{\"type\":\"surface\",\"colorbar\":{\"outlinewidth\":0,\"ticks\":\"\"},\"colorscale\":[[0.0,\"#0d0887\"],[0.1111111111111111,\"#46039f\"],[0.2222222222222222,\"#7201a8\"],[0.3333333333333333,\"#9c179e\"],[0.4444444444444444,\"#bd3786\"],[0.5555555555555556,\"#d8576b\"],[0.6666666666666666,\"#ed7953\"],[0.7777777777777778,\"#fb9f3a\"],[0.8888888888888888,\"#fdca26\"],[1.0,\"#f0f921\"]]}],\"mesh3d\":[{\"type\":\"mesh3d\",\"colorbar\":{\"outlinewidth\":0,\"ticks\":\"\"}}],\"scatter\":[{\"fillpattern\":{\"fillmode\":\"overlay\",\"size\":10,\"solidity\":0.2},\"type\":\"scatter\"}],\"parcoords\":[{\"type\":\"parcoords\",\"line\":{\"colorbar\":{\"outlinewidth\":0,\"ticks\":\"\"}}}],\"scatterpolargl\":[{\"type\":\"scatterpolargl\",\"marker\":{\"colorbar\":{\"outlinewidth\":0,\"ticks\":\"\"}}}],\"bar\":[{\"error_x\":{\"color\":\"#2a3f5f\"},\"error_y\":{\"color\":\"#2a3f5f\"},\"marker\":{\"line\":{\"color\":\"#E5ECF6\",\"width\":0.5},\"pattern\":{\"fillmode\":\"overlay\",\"size\":10,\"solidity\":0.2}},\"type\":\"bar\"}],\"scattergeo\":[{\"type\":\"scattergeo\",\"marker\":{\"colorbar\":{\"outlinewidth\":0,\"ticks\":\"\"}}}],\"scatterpolar\":[{\"type\":\"scatterpolar\",\"marker\":{\"colorbar\":{\"outlinewidth\":0,\"ticks\":\"\"}}}],\"histogram\":[{\"marker\":{\"pattern\":{\"fillmode\":\"overlay\",\"size\":10,\"solidity\":0.2}},\"type\":\"histogram\"}],\"scattergl\":[{\"type\":\"scattergl\",\"marker\":{\"colorbar\":{\"outlinewidth\":0,\"ticks\":\"\"}}}],\"scatter3d\":[{\"type\":\"scatter3d\",\"line\":{\"colorbar\":{\"outlinewidth\":0,\"ticks\":\"\"}},\"marker\":{\"colorbar\":{\"outlinewidth\":0,\"ticks\":\"\"}}}],\"scattermapbox\":[{\"type\":\"scattermapbox\",\"marker\":{\"colorbar\":{\"outlinewidth\":0,\"ticks\":\"\"}}}],\"scatterternary\":[{\"type\":\"scatterternary\",\"marker\":{\"colorbar\":{\"outlinewidth\":0,\"ticks\":\"\"}}}],\"scattercarpet\":[{\"type\":\"scattercarpet\",\"marker\":{\"colorbar\":{\"outlinewidth\":0,\"ticks\":\"\"}}}],\"carpet\":[{\"aaxis\":{\"endlinecolor\":\"#2a3f5f\",\"gridcolor\":\"white\",\"linecolor\":\"white\",\"minorgridcolor\":\"white\",\"startlinecolor\":\"#2a3f5f\"},\"baxis\":{\"endlinecolor\":\"#2a3f5f\",\"gridcolor\":\"white\",\"linecolor\":\"white\",\"minorgridcolor\":\"white\",\"startlinecolor\":\"#2a3f5f\"},\"type\":\"carpet\"}],\"table\":[{\"cells\":{\"fill\":{\"color\":\"#EBF0F8\"},\"line\":{\"color\":\"white\"}},\"header\":{\"fill\":{\"color\":\"#C8D4E3\"},\"line\":{\"color\":\"white\"}},\"type\":\"table\"}],\"barpolar\":[{\"marker\":{\"line\":{\"color\":\"#E5ECF6\",\"width\":0.5},\"pattern\":{\"fillmode\":\"overlay\",\"size\":10,\"solidity\":0.2}},\"type\":\"barpolar\"}],\"pie\":[{\"automargin\":true,\"type\":\"pie\"}]},\"layout\":{\"autotypenumbers\":\"strict\",\"colorway\":[\"#636efa\",\"#EF553B\",\"#00cc96\",\"#ab63fa\",\"#FFA15A\",\"#19d3f3\",\"#FF6692\",\"#B6E880\",\"#FF97FF\",\"#FECB52\"],\"font\":{\"color\":\"#2a3f5f\"},\"hovermode\":\"closest\",\"hoverlabel\":{\"align\":\"left\"},\"paper_bgcolor\":\"white\",\"plot_bgcolor\":\"#E5ECF6\",\"polar\":{\"bgcolor\":\"#E5ECF6\",\"angularaxis\":{\"gridcolor\":\"white\",\"linecolor\":\"white\",\"ticks\":\"\"},\"radialaxis\":{\"gridcolor\":\"white\",\"linecolor\":\"white\",\"ticks\":\"\"}},\"ternary\":{\"bgcolor\":\"#E5ECF6\",\"aaxis\":{\"gridcolor\":\"white\",\"linecolor\":\"white\",\"ticks\":\"\"},\"baxis\":{\"gridcolor\":\"white\",\"linecolor\":\"white\",\"ticks\":\"\"},\"caxis\":{\"gridcolor\":\"white\",\"linecolor\":\"white\",\"ticks\":\"\"}},\"coloraxis\":{\"colorbar\":{\"outlinewidth\":0,\"ticks\":\"\"}},\"colorscale\":{\"sequential\":[[0.0,\"#0d0887\"],[0.1111111111111111,\"#46039f\"],[0.2222222222222222,\"#7201a8\"],[0.3333333333333333,\"#9c179e\"],[0.4444444444444444,\"#bd3786\"],[0.5555555555555556,\"#d8576b\"],[0.6666666666666666,\"#ed7953\"],[0.7777777777777778,\"#fb9f3a\"],[0.8888888888888888,\"#fdca26\"],[1.0,\"#f0f921\"]],\"sequentialminus\":[[0.0,\"#0d0887\"],[0.1111111111111111,\"#46039f\"],[0.2222222222222222,\"#7201a8\"],[0.3333333333333333,\"#9c179e\"],[0.4444444444444444,\"#bd3786\"],[0.5555555555555556,\"#d8576b\"],[0.6666666666666666,\"#ed7953\"],[0.7777777777777778,\"#fb9f3a\"],[0.8888888888888888,\"#fdca26\"],[1.0,\"#f0f921\"]],\"diverging\":[[0,\"#8e0152\"],[0.1,\"#c51b7d\"],[0.2,\"#de77ae\"],[0.3,\"#f1b6da\"],[0.4,\"#fde0ef\"],[0.5,\"#f7f7f7\"],[0.6,\"#e6f5d0\"],[0.7,\"#b8e186\"],[0.8,\"#7fbc41\"],[0.9,\"#4d9221\"],[1,\"#276419\"]]},\"xaxis\":{\"gridcolor\":\"white\",\"linecolor\":\"white\",\"ticks\":\"\",\"title\":{\"standoff\":15},\"zerolinecolor\":\"white\",\"automargin\":true,\"zerolinewidth\":2},\"yaxis\":{\"gridcolor\":\"white\",\"linecolor\":\"white\",\"ticks\":\"\",\"title\":{\"standoff\":15},\"zerolinecolor\":\"white\",\"automargin\":true,\"zerolinewidth\":2},\"scene\":{\"xaxis\":{\"backgroundcolor\":\"#E5ECF6\",\"gridcolor\":\"white\",\"linecolor\":\"white\",\"showbackground\":true,\"ticks\":\"\",\"zerolinecolor\":\"white\",\"gridwidth\":2},\"yaxis\":{\"backgroundcolor\":\"#E5ECF6\",\"gridcolor\":\"white\",\"linecolor\":\"white\",\"showbackground\":true,\"ticks\":\"\",\"zerolinecolor\":\"white\",\"gridwidth\":2},\"zaxis\":{\"backgroundcolor\":\"#E5ECF6\",\"gridcolor\":\"white\",\"linecolor\":\"white\",\"showbackground\":true,\"ticks\":\"\",\"zerolinecolor\":\"white\",\"gridwidth\":2}},\"shapedefaults\":{\"line\":{\"color\":\"#2a3f5f\"}},\"annotationdefaults\":{\"arrowcolor\":\"#2a3f5f\",\"arrowhead\":0,\"arrowwidth\":1},\"geo\":{\"bgcolor\":\"white\",\"landcolor\":\"#E5ECF6\",\"subunitcolor\":\"white\",\"showland\":true,\"showlakes\":true,\"lakecolor\":\"white\"},\"title\":{\"x\":0.05},\"mapbox\":{\"style\":\"light\"}}},\"title\":{\"text\":\"DE Convergence on 4-D Ackley Function\"},\"xaxis\":{\"title\":{\"text\":\"Generation\"}},\"yaxis\":{\"title\":{\"text\":\"Best Fitness\"}},\"showlegend\":true},                        {\"responsive\": true}                    ).then(function(){\n",
       "                            \n",
       "var gd = document.getElementById('b281da7f-20f9-4dc1-b31a-c603fee0e5fa');\n",
       "var x = new MutationObserver(function (mutations, observer) {{\n",
       "        var display = window.getComputedStyle(gd).display;\n",
       "        if (!display || display === 'none') {{\n",
       "            console.log([gd, 'removed!']);\n",
       "            Plotly.purge(gd);\n",
       "            observer.disconnect();\n",
       "        }}\n",
       "}});\n",
       "\n",
       "// Listen for the removal of the full notebook cells\n",
       "var notebookContainer = gd.closest('#notebook-container');\n",
       "if (notebookContainer) {{\n",
       "    x.observe(notebookContainer, {childList: true});\n",
       "}}\n",
       "\n",
       "// Listen for the clearing of the current output cell\n",
       "var outputEl = gd.closest('.output');\n",
       "if (outputEl) {{\n",
       "    x.observe(outputEl, {childList: true});\n",
       "}}\n",
       "\n",
       "                        })                };                            </script>        </div>\n",
       "</body>\n",
       "</html>"
      ]
     },
     "metadata": {},
     "output_type": "display_data"
    }
   ],
   "source": [
    "import plotly.graph_objects as go\n",
    "\n",
    "\n",
    "fig = go.Figure()\n",
    "fig.add_trace(go.Scatter(\n",
    "    x=list(range(len(best_history))),\n",
    "    y=best_history,\n",
    "    mode='lines+markers',\n",
    "    name='Best Fitness'\n",
    "))\n",
    "fig.update_layout(\n",
    "    title='DE Convergence on 4-D Ackley Function',\n",
    "    xaxis_title='Generation',\n",
    "    yaxis_title='Best Fitness',\n",
    "    showlegend=True\n",
    ")\n",
    "fig.show()\n"
   ]
  },
  {
   "cell_type": "code",
   "execution_count": 38,
   "metadata": {
    "executionInfo": {
     "elapsed": 7,
     "status": "ok",
     "timestamp": 1748848574682,
     "user": {
      "displayName": "Vanshika Malik",
      "userId": "17973672456059116080"
     },
     "user_tz": -330
    },
    "id": "IAqbXLwmVqEr"
   },
   "outputs": [],
   "source": []
  }
 ],
 "metadata": {
  "colab": {
   "authorship_tag": "ABX9TyN8e+Ydt+RRoz8sAW8ToJWv",
   "provenance": []
  },
  "kernelspec": {
   "display_name": "Python 3",
   "name": "python3"
  },
  "language_info": {
   "codemirror_mode": {
    "name": "ipython",
    "version": 3
   },
   "file_extension": ".py",
   "mimetype": "text/x-python",
   "name": "python",
   "nbconvert_exporter": "python",
   "pygments_lexer": "ipython3",
   "version": "3.11.13"
  }
 },
 "nbformat": 4,
 "nbformat_minor": 0
}
