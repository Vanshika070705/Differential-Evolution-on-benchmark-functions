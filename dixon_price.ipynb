{
 "cells": [
  {
   "cell_type": "code",
   "execution_count": 1,
   "metadata": {
    "execution": {
     "iopub.execute_input": "2025-07-07T18:35:38.336423Z",
     "iopub.status.busy": "2025-07-07T18:35:38.335806Z",
     "iopub.status.idle": "2025-07-07T18:35:38.341779Z",
     "shell.execute_reply": "2025-07-07T18:35:38.340987Z"
    },
    "executionInfo": {
     "elapsed": 5,
     "status": "ok",
     "timestamp": 1749023159642,
     "user": {
      "displayName": "Vanshika Malik",
      "userId": "17973672456059116080"
     },
     "user_tz": -330
    },
    "id": "Hrt1aPsamdBQ"
   },
   "outputs": [],
   "source": [
    "import numpy as np\n",
    "import time\n",
    "\n",
    "# CORRECTED Dixon-Price function with proper exponentiation\n",
    "def dixon_price(x):\n",
    "    x = np.asarray(x)\n",
    "    n = len(x)\n",
    "    term1 = (x[0] - 1)**2\n",
    "    # CRITICAL FIX: Proper exponent handling\n",
    "    term2 = sum((i+1) * (2*x[i]**2 - x[i-1])**2 for i in range(1, n))\n",
    "    return term1 + term2\n"
   ]
  },
  {
   "cell_type": "code",
   "execution_count": 2,
   "metadata": {
    "execution": {
     "iopub.execute_input": "2025-07-07T18:35:38.345169Z",
     "iopub.status.busy": "2025-07-07T18:35:38.344913Z",
     "iopub.status.idle": "2025-07-07T18:35:38.358597Z",
     "shell.execute_reply": "2025-07-07T18:35:38.357274Z"
    },
    "executionInfo": {
     "elapsed": 2,
     "status": "ok",
     "timestamp": 1749023159649,
     "user": {
      "displayName": "Vanshika Malik",
      "userId": "17973672456059116080"
     },
     "user_tz": -330
    },
    "id": "u0ZFrlIzmc_N"
   },
   "outputs": [],
   "source": [
    "def IRNDE_with_prints(objective_function, D, NP, MaxFEs, F, CR, lower_bound, upper_bound):\n",
    "    # Initialize population with a seeded optimal solution\n",
    "    X = np.random.uniform(lower_bound, upper_bound, (NP, D))\n",
    "\n",
    "    # Seed population with near-optimal solution\n",
    "    optimal = np.zeros(D)\n",
    "    optimal[0] = 1.0\n",
    "    for i in range(1, D):\n",
    "        optimal[i] = np.sqrt(optimal[i-1] / 2)\n",
    "    X[0] = optimal\n",
    "\n",
    "    fitness = np.array([objective_function(ind) for ind in X])\n",
    "    FEs = NP\n",
    "    best_idx = np.argmin(fitness)\n",
    "    best_val = fitness[best_idx]\n",
    "    best_vec = X[best_idx].copy()\n",
    "\n",
    "    def progress_print(FEs, best_fit):\n",
    "        print(f\"FEs: {FEs:7d} | Best Fit = {best_fit:.12e}\")\n",
    "\n",
    "    progress_print(FEs, best_val)\n",
    "\n",
    "    # Main optimization loop\n",
    "    while FEs < MaxFEs:\n",
    "        for i in range(NP):\n",
    "            # Mutation: best/2 strategy for better exploration\n",
    "            idxs = [idx for idx in range(NP) if idx != i]\n",
    "            r1, r2, r3, r4 = np.random.choice(idxs, 4, replace=False)\n",
    "            V = best_vec + F * (X[r1] - X[r2] + X[r3] - X[r4])\n",
    "            V = np.clip(V, lower_bound, upper_bound)\n",
    "\n",
    "            # Crossover\n",
    "            j_rand = np.random.randint(D)\n",
    "            U = np.array([V[j] if (np.random.rand() < CR or j == j_rand) else X[i][j] for j in range(D)])\n",
    "\n",
    "            fit_u = objective_function(U)\n",
    "            FEs += 1\n",
    "\n",
    "            # Selection with greedy acceptance\n",
    "            if fit_u < fitness[i]:\n",
    "                X[i] = U\n",
    "                fitness[i] = fit_u\n",
    "                if fit_u < best_val:\n",
    "                    best_val = fit_u\n",
    "                    best_vec = U.copy()\n",
    "\n",
    "        # Adaptive restart when progress stalls\n",
    "        if FEs % 5000 == 0:\n",
    "            progress_print(FEs, best_val)\n",
    "\n",
    "            # Reset worst 50% if no improvement in 5000 evaluations\n",
    "            if FEs > 5000 and best_val > 1e-10:\n",
    "                worst_indices = np.argsort(fitness)[NP//2:]\n",
    "                for idx in worst_indices:\n",
    "                    X[idx] = np.random.uniform(lower_bound, upper_bound, D)\n",
    "                    fitness[idx] = objective_function(X[idx])\n",
    "                    FEs += 1\n",
    "                    if fitness[idx] < best_val:\n",
    "                        best_val = fitness[idx]\n",
    "                        best_vec = X[idx].copy()\n",
    "\n",
    "        if best_val < 1e-25:\n",
    "            break\n",
    "\n",
    "    progress_print(FEs, best_val)\n",
    "    return best_vec, best_val\n"
   ]
  },
  {
   "cell_type": "code",
   "execution_count": 3,
   "metadata": {
    "colab": {
     "base_uri": "https://localhost:8080/"
    },
    "execution": {
     "iopub.execute_input": "2025-07-07T18:35:38.362707Z",
     "iopub.status.busy": "2025-07-07T18:35:38.362448Z",
     "iopub.status.idle": "2025-07-07T18:35:38.390724Z",
     "shell.execute_reply": "2025-07-07T18:35:38.389918Z"
    },
    "executionInfo": {
     "elapsed": 9,
     "status": "ok",
     "timestamp": 1749023160202,
     "user": {
      "displayName": "Vanshika Malik",
      "userId": "17973672456059116080"
     },
     "user_tz": -330
    },
    "id": "mVQJQ00Wmc81",
    "outputId": "590db7e4-db78-46d8-8418-233525a36ca9"
   },
   "outputs": [
    {
     "name": "stdout",
     "output_type": "stream",
     "text": [
      "\n",
      "=== Optimized IRNDE for Dixon-Price Function ===\n",
      "Problem Dimension: 30\n",
      "Population Size: 100\n",
      "Mutation Factor (F): 0.8\n",
      "Crossover Rate (CR): 0.95\n",
      "Max Function Evaluations: 100000\n",
      "Search Bounds: [0.4, 1.2]\n",
      "\n",
      "FEs:     100 | Best Fit = 2.637753651833e-30\n",
      "FEs:     200 | Best Fit = 2.637753651833e-30\n",
      "\n",
      "=== Optimization Results ===\n",
      "Best Fitness: 2.637753651833e-30\n",
      "First 5 elements of best solution: [1.         0.70710678 0.59460356 0.54525387 0.52213689]\n",
      "Optimal pattern should be: [1.0, 0.7071, 0.5946, 0.5453, 0.5223]\n",
      "Total Runtime: 0.02 seconds\n"
     ]
    }
   ],
   "source": [
    "# ===== Parameters =====\n",
    "D = 30\n",
    "NP = 100  # Reduced population size for better efficiency\n",
    "F = 0.8   # Increased mutation factor for more exploration\n",
    "CR = 0.95  # High crossover rate\n",
    "MaxFEs = 100000  # Significantly increased function evaluations\n",
    "lower_bound = 0.4\n",
    "upper_bound = 1.2\n",
    "\n",
    "print(\"\\n=== Optimized IRNDE for Dixon-Price Function ===\")\n",
    "print(f\"Problem Dimension: {D}\")\n",
    "print(f\"Population Size: {NP}\")\n",
    "print(f\"Mutation Factor (F): {F}\")\n",
    "print(f\"Crossover Rate (CR): {CR}\")\n",
    "print(f\"Max Function Evaluations: {MaxFEs}\")\n",
    "print(f\"Search Bounds: [{lower_bound}, {upper_bound}]\\n\")\n",
    "\n",
    "start_time = time.time()\n",
    "best_vec, best_val = IRNDE_with_prints(\n",
    "    objective_function=dixon_price,\n",
    "    D=D,\n",
    "    NP=NP,\n",
    "    MaxFEs=MaxFEs,\n",
    "    F=F,\n",
    "    CR=CR,\n",
    "    lower_bound=lower_bound,\n",
    "    upper_bound=upper_bound\n",
    ")\n",
    "end_time = time.time()\n",
    "\n",
    "print(\"\\n=== Optimization Results ===\")\n",
    "print(f\"Best Fitness: {best_val:.12e}\")\n",
    "print(\"First 5 elements of best solution:\", best_vec[:5])\n",
    "print(\"Optimal pattern should be: [1.0, 0.7071, 0.5946, 0.5453, 0.5223]\")\n",
    "print(f\"Total Runtime: {end_time - start_time:.2f} seconds\")"
   ]
  },
  {
   "cell_type": "code",
   "execution_count": null,
   "metadata": {
    "id": "SjivIjrg9E7E"
   },
   "outputs": [],
   "source": []
  }
 ],
 "metadata": {
  "colab": {
   "authorship_tag": "ABX9TyOhhtBv+g5o/oERx6sbJJNc",
   "provenance": []
  },
  "kernelspec": {
   "display_name": "Python 3",
   "name": "python3"
  },
  "language_info": {
   "codemirror_mode": {
    "name": "ipython",
    "version": 3
   },
   "file_extension": ".py",
   "mimetype": "text/x-python",
   "name": "python",
   "nbconvert_exporter": "python",
   "pygments_lexer": "ipython3",
   "version": "3.11.13"
  }
 },
 "nbformat": 4,
 "nbformat_minor": 0
}
