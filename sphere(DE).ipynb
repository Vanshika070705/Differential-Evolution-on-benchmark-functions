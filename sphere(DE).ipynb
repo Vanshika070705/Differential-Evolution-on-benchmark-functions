{
 "cells": [
  {
   "cell_type": "code",
   "execution_count": 1,
   "metadata": {
    "execution": {
     "iopub.execute_input": "2025-07-07T18:35:44.055213Z",
     "iopub.status.busy": "2025-07-07T18:35:44.054639Z",
     "iopub.status.idle": "2025-07-07T18:35:44.058910Z",
     "shell.execute_reply": "2025-07-07T18:35:44.058208Z"
    },
    "executionInfo": {
     "elapsed": 9,
     "status": "ok",
     "timestamp": 1748844673081,
     "user": {
      "displayName": "Vanshika Malik",
      "userId": "17973672456059116080"
     },
     "user_tz": -330
    },
    "id": "48sW4pdTJzUW"
   },
   "outputs": [],
   "source": [
    "# Differential Evolution on a 4-D sphere function\n",
    "\n",
    "import numpy as np\n",
    "import time"
   ]
  },
  {
   "cell_type": "code",
   "execution_count": 2,
   "metadata": {
    "execution": {
     "iopub.execute_input": "2025-07-07T18:35:44.064370Z",
     "iopub.status.busy": "2025-07-07T18:35:44.062640Z",
     "iopub.status.idle": "2025-07-07T18:35:44.070892Z",
     "shell.execute_reply": "2025-07-07T18:35:44.069907Z"
    },
    "executionInfo": {
     "elapsed": 3,
     "status": "ok",
     "timestamp": 1748844673086,
     "user": {
      "displayName": "Vanshika Malik",
      "userId": "17973672456059116080"
     },
     "user_tz": -330
    },
    "id": "OYkMBHf2Jz8P"
   },
   "outputs": [],
   "source": [
    "# -------------------- Problem Definition --------------------\n",
    "# Objective: minimize f(x) = x1^2 + x2^2 + x3^2 + x4^2\n",
    "def sphere_function(x):\n",
    "    return np.sum(x**2)\n",
    "\n",
    "# Number of dimensions\n",
    "D = 4\n",
    "\n",
    "# Bounds for each dimension: [lower_bound, upper_bound]\n",
    "lower_bound = 0.0\n",
    "upper_bound = 10.0\n",
    "\n",
    "# -------------------- DE Parameters --------------------\n",
    "NP = 5                # Population size (number of candidate solutions)\n",
    "F  = 0.85             # Scaling factor (mutation factor)\n",
    "CR = 0.8              # Crossover probability\n",
    "max_generations = 1000  # Hard cap on number of generations\n",
    "tol = 1e-6            # Stop if best fitness ≤ tol"
   ]
  },
  {
   "cell_type": "code",
   "execution_count": 3,
   "metadata": {
    "colab": {
     "base_uri": "https://localhost:8080/"
    },
    "execution": {
     "iopub.execute_input": "2025-07-07T18:35:44.077883Z",
     "iopub.status.busy": "2025-07-07T18:35:44.076414Z",
     "iopub.status.idle": "2025-07-07T18:35:44.096216Z",
     "shell.execute_reply": "2025-07-07T18:35:44.095388Z"
    },
    "executionInfo": {
     "elapsed": 10,
     "status": "ok",
     "timestamp": 1748844673095,
     "user": {
      "displayName": "Vanshika Malik",
      "userId": "17973672456059116080"
     },
     "user_tz": -330
    },
    "id": "1DA7CQ-kNExT",
    "outputId": "79921295-c046-49b1-f8fa-599266fa264c"
   },
   "outputs": [
    {
     "name": "stdout",
     "output_type": "stream",
     "text": [
      "Generation 0: Best fitness = 6.393236e+01, Best vector = [3.04242243 5.24756432 4.31945019 2.9122914 ]\n"
     ]
    }
   ],
   "source": [
    "# -------------------- Initialization --------------------\n",
    "# Seed for reproducibility (optional)\n",
    "np.random.seed(42)\n",
    "\n",
    "# Each individual is a vector of size D, uniformly drawn from [0, 10]\n",
    "pop = np.random.uniform(low=lower_bound, high=upper_bound, size=(NP, D))\n",
    "\n",
    "# Evaluate initial population\n",
    "fitness = np.array([sphere_function(ind) for ind in pop])\n",
    "\n",
    "# Keep track of best solution\n",
    "best_idx = np.argmin(fitness)\n",
    "best_vector = pop[best_idx].copy()\n",
    "best_fitness = fitness[best_idx]\n",
    "\n",
    "print(f\"Generation 0: Best fitness = {best_fitness:.6e}, Best vector = {best_vector}\")"
   ]
  },
  {
   "cell_type": "code",
   "execution_count": 4,
   "metadata": {
    "execution": {
     "iopub.execute_input": "2025-07-07T18:35:44.162098Z",
     "iopub.status.busy": "2025-07-07T18:35:44.161656Z",
     "iopub.status.idle": "2025-07-07T18:35:44.166243Z",
     "shell.execute_reply": "2025-07-07T18:35:44.165496Z"
    },
    "executionInfo": {
     "elapsed": 4,
     "status": "ok",
     "timestamp": 1748844673101,
     "user": {
      "displayName": "Vanshika Malik",
      "userId": "17973672456059116080"
     },
     "user_tz": -330
    },
    "id": "yoRutLbSQEY9"
   },
   "outputs": [],
   "source": [
    "# -------------------- Start Timing --------------------\n",
    "start_time = time.perf_counter()\n",
    "\n",
    "# Track history if you want (optional)\n",
    "best_history = [best_fitness]"
   ]
  },
  {
   "cell_type": "code",
   "execution_count": 5,
   "metadata": {
    "colab": {
     "base_uri": "https://localhost:8080/"
    },
    "execution": {
     "iopub.execute_input": "2025-07-07T18:35:44.171841Z",
     "iopub.status.busy": "2025-07-07T18:35:44.171509Z",
     "iopub.status.idle": "2025-07-07T18:35:44.202215Z",
     "shell.execute_reply": "2025-07-07T18:35:44.201180Z"
    },
    "executionInfo": {
     "elapsed": 11,
     "status": "ok",
     "timestamp": 1748844673323,
     "user": {
      "displayName": "Vanshika Malik",
      "userId": "17973672456059116080"
     },
     "user_tz": -330
    },
    "id": "tLUMoj31NJCN",
    "outputId": "3d26f8f8-0d50-4932-9690-4a8837b536be"
   },
   "outputs": [
    {
     "name": "stdout",
     "output_type": "stream",
     "text": [
      "Generation 1: Best fitness = 6.393236e+01, Best vector = [3.04242243 5.24756432 4.31945019 2.9122914 ]\n",
      "Generation 2: Best fitness = 6.393236e+01, Best vector = [3.04242243 5.24756432 4.31945019 2.9122914 ]\n",
      "Generation 3: Best fitness = 6.290302e+01, Best vector = [0.         7.53493061 0.         2.47544769]\n",
      "Generation 4: Best fitness = 1.371406e-03, Best vector = [0.         0.03703249 0.         0.        ]\n",
      "Generation 5: Best fitness = 1.371406e-03, Best vector = [0.         0.03703249 0.         0.        ]\n",
      "Generation 6: Best fitness = 1.371406e-03, Best vector = [0.         0.03703249 0.         0.        ]\n",
      "Generation 7: Best fitness = 1.371406e-03, Best vector = [0.         0.03703249 0.         0.        ]\n",
      "Generation 8: Best fitness = 1.371406e-03, Best vector = [0.         0.03703249 0.         0.        ]\n",
      "Generation 9: Best fitness = 1.371406e-03, Best vector = [0.         0.03703249 0.         0.        ]\n",
      "Generation 10: Best fitness = 1.371406e-03, Best vector = [0.         0.03703249 0.         0.        ]\n",
      "Generation 11: Best fitness = 0.000000e+00, Best vector = [0. 0. 0. 0.]\n",
      "\n",
      "Terminated at generation 11 (fitness ≤ 1e-06).\n"
     ]
    }
   ],
   "source": [
    "# -------------------- DE Main Loop --------------------\n",
    "generation = 0\n",
    "while generation < max_generations and best_fitness > tol:\n",
    "    generation += 1\n",
    "\n",
    "    for i in range(NP):\n",
    "        # 1. Mutation: select r1, r2, r3 ∈ {0,...,NP-1}, all distinct and ≠ i\n",
    "        idxs = list(range(NP))\n",
    "        idxs.remove(i)\n",
    "        r1, r2, r3 = np.random.choice(idxs, size=3, replace=False)\n",
    "\n",
    "        x_r1 = pop[r1]\n",
    "        x_r2 = pop[r2]\n",
    "        x_r3 = pop[r3]\n",
    "\n",
    "        # Donor vector\n",
    "        v_i = x_r1 + F * (x_r2 - x_r3)\n",
    "\n",
    "        # Make sure v_i stays within bounds\n",
    "        v_i = np.clip(v_i, lower_bound, upper_bound)\n",
    "\n",
    "        # 2. Binomial Crossover: create trial vector u_i\n",
    "        u_i = np.empty(D)\n",
    "        # Pick a random dimension to ensure at least one gene comes from v_i\n",
    "        j_rand = np.random.randint(D)\n",
    "\n",
    "        for j in range(D):\n",
    "            if np.random.rand() < CR or j == j_rand:\n",
    "                u_i[j] = v_i[j]\n",
    "            else:\n",
    "                u_i[j] = pop[i, j]\n",
    "\n",
    "        # 3. Selection: if trial is better, replace target\n",
    "        f_u_i = sphere_function(u_i)\n",
    "        if f_u_i <= fitness[i]:\n",
    "            pop[i] = u_i\n",
    "            fitness[i] = f_u_i\n",
    "\n",
    "            # Update global best if needed\n",
    "            if f_u_i < best_fitness:\n",
    "                best_fitness = f_u_i\n",
    "                best_vector = u_i.copy()\n",
    "\n",
    "        # Print status every generation\n",
    "    print(f\"Generation {generation}: Best fitness = {best_fitness:.6e}, Best vector = {best_vector}\")\n",
    "\n",
    "    # Termination check\n",
    "    if best_fitness <= tol:\n",
    "        print(f\"\\nTerminated at generation {generation} (fitness ≤ {tol}).\")\n",
    "        break\n"
   ]
  },
  {
   "cell_type": "code",
   "execution_count": 6,
   "metadata": {
    "execution": {
     "iopub.execute_input": "2025-07-07T18:35:44.208712Z",
     "iopub.status.busy": "2025-07-07T18:35:44.207004Z",
     "iopub.status.idle": "2025-07-07T18:35:44.216096Z",
     "shell.execute_reply": "2025-07-07T18:35:44.215159Z"
    },
    "executionInfo": {
     "elapsed": 38,
     "status": "ok",
     "timestamp": 1748844673362,
     "user": {
      "displayName": "Vanshika Malik",
      "userId": "17973672456059116080"
     },
     "user_tz": -330
    },
    "id": "uc3MjXT5QMY5"
   },
   "outputs": [],
   "source": [
    "# -------------------- End Timing --------------------\n",
    "end_time = time.perf_counter()\n",
    "elapsed = end_time - start_time\n"
   ]
  },
  {
   "cell_type": "code",
   "execution_count": 7,
   "metadata": {
    "colab": {
     "base_uri": "https://localhost:8080/"
    },
    "execution": {
     "iopub.execute_input": "2025-07-07T18:35:44.222407Z",
     "iopub.status.busy": "2025-07-07T18:35:44.220813Z",
     "iopub.status.idle": "2025-07-07T18:35:44.232561Z",
     "shell.execute_reply": "2025-07-07T18:35:44.231856Z"
    },
    "executionInfo": {
     "elapsed": 40,
     "status": "ok",
     "timestamp": 1748844673365,
     "user": {
      "displayName": "Vanshika Malik",
      "userId": "17973672456059116080"
     },
     "user_tz": -330
    },
    "id": "Edh5EfQVNiD5",
    "outputId": "f98d06d8-0888-4a05-b77e-8dee305d3016"
   },
   "outputs": [
    {
     "name": "stdout",
     "output_type": "stream",
     "text": [
      "Final best fitness = 0.000000e+00\n",
      "Final best vector = [0. 0. 0. 0.]\n",
      "\n",
      "▶ Total elapsed time: 0.0478 seconds\n"
     ]
    }
   ],
   "source": [
    "# -------------------- Final Output --------------------\n",
    "if best_fitness > tol:\n",
    "    print(f\"\\n>> Reached max generations ({max_generations}) without hitting fitness ≤ {tol}.\")\n",
    "print(f\"Final best fitness = {best_fitness:.6e}\")\n",
    "print(f\"Final best vector = {best_vector}\")\n",
    "print(f\"\\n▶ Total elapsed time: {elapsed:.4f} seconds\")\n"
   ]
  },
  {
   "cell_type": "code",
   "execution_count": 8,
   "metadata": {
    "colab": {
     "base_uri": "https://localhost:8080/"
    },
    "execution": {
     "iopub.execute_input": "2025-07-07T18:35:44.237940Z",
     "iopub.status.busy": "2025-07-07T18:35:44.236555Z",
     "iopub.status.idle": "2025-07-07T18:35:44.246289Z",
     "shell.execute_reply": "2025-07-07T18:35:44.245441Z"
    },
    "executionInfo": {
     "elapsed": 3,
     "status": "ok",
     "timestamp": 1748844673369,
     "user": {
      "displayName": "Vanshika Malik",
      "userId": "17973672456059116080"
     },
     "user_tz": -330
    },
    "id": "UfkG4DtAQofB",
    "outputId": "3258e28d-c6e5-4e62-9336-69758ca54c52"
   },
   "outputs": [
    {
     "name": "stdout",
     "output_type": "stream",
     "text": [
      "\n",
      "--- Theoretical Complexity ---\n",
      "Time Complexity (per run):   O(NP × D × G_max)    \n",
      "   • NP = population size     \n",
      "   • D  = dimension (here = 4) \n",
      "   • G_max = number of generations until convergence\n",
      "Space Complexity:            O(NP × D)            \n",
      "   • We store NP candidate vectors of dimension D each\n"
     ]
    }
   ],
   "source": [
    "# -------------------- Complexity Summary --------------------\n",
    "print(\"\\n--- Theoretical Complexity ---\")\n",
    "print(\"Time Complexity (per run):   O(NP × D × G_max)    \")\n",
    "print(\"   • NP = population size     \")\n",
    "print(\"   • D  = dimension (here = 4) \")\n",
    "print(\"   • G_max = number of generations until convergence\")\n",
    "print(\"Space Complexity:            O(NP × D)            \")\n",
    "print(\"   • We store NP candidate vectors of dimension D each\")"
   ]
  },
  {
   "cell_type": "markdown",
   "metadata": {
    "id": "jlbUK6m6PCu1"
   },
   "source": [
    "**graph for the same**"
   ]
  },
  {
   "cell_type": "code",
   "execution_count": 9,
   "metadata": {
    "colab": {
     "base_uri": "https://localhost:8080/",
     "height": 542
    },
    "execution": {
     "iopub.execute_input": "2025-07-07T18:35:44.251849Z",
     "iopub.status.busy": "2025-07-07T18:35:44.250467Z",
     "iopub.status.idle": "2025-07-07T18:35:44.460714Z",
     "shell.execute_reply": "2025-07-07T18:35:44.459942Z"
    },
    "executionInfo": {
     "elapsed": 10,
     "status": "ok",
     "timestamp": 1748844673380,
     "user": {
      "displayName": "Vanshika Malik",
      "userId": "17973672456059116080"
     },
     "user_tz": -330
    },
    "id": "eocoxrwhOKfI",
    "outputId": "6ff7762d-393c-431b-d59c-79b0f0b62612"
   },
   "outputs": [
    {
     "data": {
      "text/html": [
       "<html>\n",
       "<head><meta charset=\"utf-8\" /></head>\n",
       "<body>\n",
       "    <div>            <script src=\"https://cdnjs.cloudflare.com/ajax/libs/mathjax/2.7.5/MathJax.js?config=TeX-AMS-MML_SVG\"></script><script type=\"text/javascript\">if (window.MathJax && window.MathJax.Hub && window.MathJax.Hub.Config) {window.MathJax.Hub.Config({SVG: {font: \"STIX-Web\"}});}</script>                <script type=\"text/javascript\">window.PlotlyConfig = {MathJaxConfig: 'local'};</script>\n",
       "        <script charset=\"utf-8\" src=\"https://cdn.plot.ly/plotly-2.35.2.min.js\"></script>                <div id=\"fb498444-43a4-4fec-a9fb-4b9ce25059ce\" class=\"plotly-graph-div\" style=\"height:525px; width:100%;\"></div>            <script type=\"text/javascript\">                                    window.PLOTLYENV=window.PLOTLYENV || {};                                    if (document.getElementById(\"fb498444-43a4-4fec-a9fb-4b9ce25059ce\")) {                    Plotly.newPlot(                        \"fb498444-43a4-4fec-a9fb-4b9ce25059ce\",                        [{\"mode\":\"lines+markers\",\"name\":\"Best Fitness\",\"x\":[0,1,2,3,4,5,6,7,8,9,10,11],\"y\":[63.932356617067846,63.932356617067846,63.932356617067846,62.9030206104996,0.0013714055304953072,0.0013714055304953072,0.0013714055304953072,0.0013714055304953072,0.0013714055304953072,0.0013714055304953072,0.0013714055304953072,0.0],\"type\":\"scatter\"}],                        {\"template\":{\"data\":{\"histogram2dcontour\":[{\"type\":\"histogram2dcontour\",\"colorbar\":{\"outlinewidth\":0,\"ticks\":\"\"},\"colorscale\":[[0.0,\"#0d0887\"],[0.1111111111111111,\"#46039f\"],[0.2222222222222222,\"#7201a8\"],[0.3333333333333333,\"#9c179e\"],[0.4444444444444444,\"#bd3786\"],[0.5555555555555556,\"#d8576b\"],[0.6666666666666666,\"#ed7953\"],[0.7777777777777778,\"#fb9f3a\"],[0.8888888888888888,\"#fdca26\"],[1.0,\"#f0f921\"]]}],\"choropleth\":[{\"type\":\"choropleth\",\"colorbar\":{\"outlinewidth\":0,\"ticks\":\"\"}}],\"histogram2d\":[{\"type\":\"histogram2d\",\"colorbar\":{\"outlinewidth\":0,\"ticks\":\"\"},\"colorscale\":[[0.0,\"#0d0887\"],[0.1111111111111111,\"#46039f\"],[0.2222222222222222,\"#7201a8\"],[0.3333333333333333,\"#9c179e\"],[0.4444444444444444,\"#bd3786\"],[0.5555555555555556,\"#d8576b\"],[0.6666666666666666,\"#ed7953\"],[0.7777777777777778,\"#fb9f3a\"],[0.8888888888888888,\"#fdca26\"],[1.0,\"#f0f921\"]]}],\"heatmap\":[{\"type\":\"heatmap\",\"colorbar\":{\"outlinewidth\":0,\"ticks\":\"\"},\"colorscale\":[[0.0,\"#0d0887\"],[0.1111111111111111,\"#46039f\"],[0.2222222222222222,\"#7201a8\"],[0.3333333333333333,\"#9c179e\"],[0.4444444444444444,\"#bd3786\"],[0.5555555555555556,\"#d8576b\"],[0.6666666666666666,\"#ed7953\"],[0.7777777777777778,\"#fb9f3a\"],[0.8888888888888888,\"#fdca26\"],[1.0,\"#f0f921\"]]}],\"heatmapgl\":[{\"type\":\"heatmapgl\",\"colorbar\":{\"outlinewidth\":0,\"ticks\":\"\"},\"colorscale\":[[0.0,\"#0d0887\"],[0.1111111111111111,\"#46039f\"],[0.2222222222222222,\"#7201a8\"],[0.3333333333333333,\"#9c179e\"],[0.4444444444444444,\"#bd3786\"],[0.5555555555555556,\"#d8576b\"],[0.6666666666666666,\"#ed7953\"],[0.7777777777777778,\"#fb9f3a\"],[0.8888888888888888,\"#fdca26\"],[1.0,\"#f0f921\"]]}],\"contourcarpet\":[{\"type\":\"contourcarpet\",\"colorbar\":{\"outlinewidth\":0,\"ticks\":\"\"}}],\"contour\":[{\"type\":\"contour\",\"colorbar\":{\"outlinewidth\":0,\"ticks\":\"\"},\"colorscale\":[[0.0,\"#0d0887\"],[0.1111111111111111,\"#46039f\"],[0.2222222222222222,\"#7201a8\"],[0.3333333333333333,\"#9c179e\"],[0.4444444444444444,\"#bd3786\"],[0.5555555555555556,\"#d8576b\"],[0.6666666666666666,\"#ed7953\"],[0.7777777777777778,\"#fb9f3a\"],[0.8888888888888888,\"#fdca26\"],[1.0,\"#f0f921\"]]}],\"surface\":[{\"type\":\"surface\",\"colorbar\":{\"outlinewidth\":0,\"ticks\":\"\"},\"colorscale\":[[0.0,\"#0d0887\"],[0.1111111111111111,\"#46039f\"],[0.2222222222222222,\"#7201a8\"],[0.3333333333333333,\"#9c179e\"],[0.4444444444444444,\"#bd3786\"],[0.5555555555555556,\"#d8576b\"],[0.6666666666666666,\"#ed7953\"],[0.7777777777777778,\"#fb9f3a\"],[0.8888888888888888,\"#fdca26\"],[1.0,\"#f0f921\"]]}],\"mesh3d\":[{\"type\":\"mesh3d\",\"colorbar\":{\"outlinewidth\":0,\"ticks\":\"\"}}],\"scatter\":[{\"fillpattern\":{\"fillmode\":\"overlay\",\"size\":10,\"solidity\":0.2},\"type\":\"scatter\"}],\"parcoords\":[{\"type\":\"parcoords\",\"line\":{\"colorbar\":{\"outlinewidth\":0,\"ticks\":\"\"}}}],\"scatterpolargl\":[{\"type\":\"scatterpolargl\",\"marker\":{\"colorbar\":{\"outlinewidth\":0,\"ticks\":\"\"}}}],\"bar\":[{\"error_x\":{\"color\":\"#2a3f5f\"},\"error_y\":{\"color\":\"#2a3f5f\"},\"marker\":{\"line\":{\"color\":\"#E5ECF6\",\"width\":0.5},\"pattern\":{\"fillmode\":\"overlay\",\"size\":10,\"solidity\":0.2}},\"type\":\"bar\"}],\"scattergeo\":[{\"type\":\"scattergeo\",\"marker\":{\"colorbar\":{\"outlinewidth\":0,\"ticks\":\"\"}}}],\"scatterpolar\":[{\"type\":\"scatterpolar\",\"marker\":{\"colorbar\":{\"outlinewidth\":0,\"ticks\":\"\"}}}],\"histogram\":[{\"marker\":{\"pattern\":{\"fillmode\":\"overlay\",\"size\":10,\"solidity\":0.2}},\"type\":\"histogram\"}],\"scattergl\":[{\"type\":\"scattergl\",\"marker\":{\"colorbar\":{\"outlinewidth\":0,\"ticks\":\"\"}}}],\"scatter3d\":[{\"type\":\"scatter3d\",\"line\":{\"colorbar\":{\"outlinewidth\":0,\"ticks\":\"\"}},\"marker\":{\"colorbar\":{\"outlinewidth\":0,\"ticks\":\"\"}}}],\"scattermapbox\":[{\"type\":\"scattermapbox\",\"marker\":{\"colorbar\":{\"outlinewidth\":0,\"ticks\":\"\"}}}],\"scatterternary\":[{\"type\":\"scatterternary\",\"marker\":{\"colorbar\":{\"outlinewidth\":0,\"ticks\":\"\"}}}],\"scattercarpet\":[{\"type\":\"scattercarpet\",\"marker\":{\"colorbar\":{\"outlinewidth\":0,\"ticks\":\"\"}}}],\"carpet\":[{\"aaxis\":{\"endlinecolor\":\"#2a3f5f\",\"gridcolor\":\"white\",\"linecolor\":\"white\",\"minorgridcolor\":\"white\",\"startlinecolor\":\"#2a3f5f\"},\"baxis\":{\"endlinecolor\":\"#2a3f5f\",\"gridcolor\":\"white\",\"linecolor\":\"white\",\"minorgridcolor\":\"white\",\"startlinecolor\":\"#2a3f5f\"},\"type\":\"carpet\"}],\"table\":[{\"cells\":{\"fill\":{\"color\":\"#EBF0F8\"},\"line\":{\"color\":\"white\"}},\"header\":{\"fill\":{\"color\":\"#C8D4E3\"},\"line\":{\"color\":\"white\"}},\"type\":\"table\"}],\"barpolar\":[{\"marker\":{\"line\":{\"color\":\"#E5ECF6\",\"width\":0.5},\"pattern\":{\"fillmode\":\"overlay\",\"size\":10,\"solidity\":0.2}},\"type\":\"barpolar\"}],\"pie\":[{\"automargin\":true,\"type\":\"pie\"}]},\"layout\":{\"autotypenumbers\":\"strict\",\"colorway\":[\"#636efa\",\"#EF553B\",\"#00cc96\",\"#ab63fa\",\"#FFA15A\",\"#19d3f3\",\"#FF6692\",\"#B6E880\",\"#FF97FF\",\"#FECB52\"],\"font\":{\"color\":\"#2a3f5f\"},\"hovermode\":\"closest\",\"hoverlabel\":{\"align\":\"left\"},\"paper_bgcolor\":\"white\",\"plot_bgcolor\":\"#E5ECF6\",\"polar\":{\"bgcolor\":\"#E5ECF6\",\"angularaxis\":{\"gridcolor\":\"white\",\"linecolor\":\"white\",\"ticks\":\"\"},\"radialaxis\":{\"gridcolor\":\"white\",\"linecolor\":\"white\",\"ticks\":\"\"}},\"ternary\":{\"bgcolor\":\"#E5ECF6\",\"aaxis\":{\"gridcolor\":\"white\",\"linecolor\":\"white\",\"ticks\":\"\"},\"baxis\":{\"gridcolor\":\"white\",\"linecolor\":\"white\",\"ticks\":\"\"},\"caxis\":{\"gridcolor\":\"white\",\"linecolor\":\"white\",\"ticks\":\"\"}},\"coloraxis\":{\"colorbar\":{\"outlinewidth\":0,\"ticks\":\"\"}},\"colorscale\":{\"sequential\":[[0.0,\"#0d0887\"],[0.1111111111111111,\"#46039f\"],[0.2222222222222222,\"#7201a8\"],[0.3333333333333333,\"#9c179e\"],[0.4444444444444444,\"#bd3786\"],[0.5555555555555556,\"#d8576b\"],[0.6666666666666666,\"#ed7953\"],[0.7777777777777778,\"#fb9f3a\"],[0.8888888888888888,\"#fdca26\"],[1.0,\"#f0f921\"]],\"sequentialminus\":[[0.0,\"#0d0887\"],[0.1111111111111111,\"#46039f\"],[0.2222222222222222,\"#7201a8\"],[0.3333333333333333,\"#9c179e\"],[0.4444444444444444,\"#bd3786\"],[0.5555555555555556,\"#d8576b\"],[0.6666666666666666,\"#ed7953\"],[0.7777777777777778,\"#fb9f3a\"],[0.8888888888888888,\"#fdca26\"],[1.0,\"#f0f921\"]],\"diverging\":[[0,\"#8e0152\"],[0.1,\"#c51b7d\"],[0.2,\"#de77ae\"],[0.3,\"#f1b6da\"],[0.4,\"#fde0ef\"],[0.5,\"#f7f7f7\"],[0.6,\"#e6f5d0\"],[0.7,\"#b8e186\"],[0.8,\"#7fbc41\"],[0.9,\"#4d9221\"],[1,\"#276419\"]]},\"xaxis\":{\"gridcolor\":\"white\",\"linecolor\":\"white\",\"ticks\":\"\",\"title\":{\"standoff\":15},\"zerolinecolor\":\"white\",\"automargin\":true,\"zerolinewidth\":2},\"yaxis\":{\"gridcolor\":\"white\",\"linecolor\":\"white\",\"ticks\":\"\",\"title\":{\"standoff\":15},\"zerolinecolor\":\"white\",\"automargin\":true,\"zerolinewidth\":2},\"scene\":{\"xaxis\":{\"backgroundcolor\":\"#E5ECF6\",\"gridcolor\":\"white\",\"linecolor\":\"white\",\"showbackground\":true,\"ticks\":\"\",\"zerolinecolor\":\"white\",\"gridwidth\":2},\"yaxis\":{\"backgroundcolor\":\"#E5ECF6\",\"gridcolor\":\"white\",\"linecolor\":\"white\",\"showbackground\":true,\"ticks\":\"\",\"zerolinecolor\":\"white\",\"gridwidth\":2},\"zaxis\":{\"backgroundcolor\":\"#E5ECF6\",\"gridcolor\":\"white\",\"linecolor\":\"white\",\"showbackground\":true,\"ticks\":\"\",\"zerolinecolor\":\"white\",\"gridwidth\":2}},\"shapedefaults\":{\"line\":{\"color\":\"#2a3f5f\"}},\"annotationdefaults\":{\"arrowcolor\":\"#2a3f5f\",\"arrowhead\":0,\"arrowwidth\":1},\"geo\":{\"bgcolor\":\"white\",\"landcolor\":\"#E5ECF6\",\"subunitcolor\":\"white\",\"showland\":true,\"showlakes\":true,\"lakecolor\":\"white\"},\"title\":{\"x\":0.05},\"mapbox\":{\"style\":\"light\"}}},\"title\":{\"text\":\"DE Convergence on 4-D Sphere Function\"},\"xaxis\":{\"title\":{\"text\":\"Generation\"}},\"yaxis\":{\"title\":{\"text\":\"Best Fitness\"}},\"showlegend\":true},                        {\"responsive\": true}                    ).then(function(){\n",
       "                            \n",
       "var gd = document.getElementById('fb498444-43a4-4fec-a9fb-4b9ce25059ce');\n",
       "var x = new MutationObserver(function (mutations, observer) {{\n",
       "        var display = window.getComputedStyle(gd).display;\n",
       "        if (!display || display === 'none') {{\n",
       "            console.log([gd, 'removed!']);\n",
       "            Plotly.purge(gd);\n",
       "            observer.disconnect();\n",
       "        }}\n",
       "}});\n",
       "\n",
       "// Listen for the removal of the full notebook cells\n",
       "var notebookContainer = gd.closest('#notebook-container');\n",
       "if (notebookContainer) {{\n",
       "    x.observe(notebookContainer, {childList: true});\n",
       "}}\n",
       "\n",
       "// Listen for the clearing of the current output cell\n",
       "var outputEl = gd.closest('.output');\n",
       "if (outputEl) {{\n",
       "    x.observe(outputEl, {childList: true});\n",
       "}}\n",
       "\n",
       "                        })                };                            </script>        </div>\n",
       "</body>\n",
       "</html>"
      ]
     },
     "metadata": {},
     "output_type": "display_data"
    }
   ],
   "source": [
    "import numpy as np\n",
    "import plotly.graph_objects as go\n",
    "\n",
    "# -------------------- Problem Definition --------------------\n",
    "def sphere_function(x):\n",
    "    return np.sum(x**2)\n",
    "\n",
    "D = 4\n",
    "lower_bound = 0.0\n",
    "upper_bound = 10.0\n",
    "\n",
    "# -------------------- DE Parameters --------------------\n",
    "NP = 5\n",
    "F  = 0.85\n",
    "CR = 0.8\n",
    "max_generations = 1000\n",
    "tol = 1e-6\n",
    "\n",
    "# -------------------- Initialization --------------------\n",
    "np.random.seed(42)\n",
    "pop = np.random.uniform(low=lower_bound, high=upper_bound, size=(NP, D))\n",
    "fitness = np.array([sphere_function(ind) for ind in pop])\n",
    "\n",
    "best_idx = np.argmin(fitness)\n",
    "best_fitness = fitness[best_idx]\n",
    "\n",
    "# Track best fitness per generation\n",
    "best_history = [best_fitness]\n",
    "\n",
    "# DE Main Loop\n",
    "generation = 0\n",
    "while generation < max_generations and best_fitness > tol:\n",
    "    generation += 1\n",
    "    for i in range(NP):\n",
    "        idxs = list(range(NP))\n",
    "        idxs.remove(i)\n",
    "        r1, r2, r3 = np.random.choice(idxs, size=3, replace=False)\n",
    "        x_r1, x_r2, x_r3 = pop[r1], pop[r2], pop[r3]\n",
    "        v_i = x_r1 + F * (x_r2 - x_r3)\n",
    "        v_i = np.clip(v_i, lower_bound, upper_bound)\n",
    "\n",
    "        u_i = np.empty(D)\n",
    "        j_rand = np.random.randint(D)\n",
    "        for j in range(D):\n",
    "            if np.random.rand() < CR or j == j_rand:\n",
    "                u_i[j] = v_i[j]\n",
    "            else:\n",
    "                u_i[j] = pop[i, j]\n",
    "\n",
    "        f_u_i = sphere_function(u_i)\n",
    "        if f_u_i <= fitness[i]:\n",
    "            pop[i] = u_i\n",
    "            fitness[i] = f_u_i\n",
    "            if f_u_i < best_fitness:\n",
    "                best_fitness = f_u_i\n",
    "\n",
    "    best_history.append(best_fitness)\n",
    "\n",
    "    if best_fitness <= tol:\n",
    "        break\n",
    "\n",
    "# -------------------- Plotting with Plotly --------------------\n",
    "fig = go.Figure()\n",
    "fig.add_trace(go.Scatter(\n",
    "    x=list(range(len(best_history))),\n",
    "    y=best_history,\n",
    "    mode='lines+markers',\n",
    "    name='Best Fitness'\n",
    "))\n",
    "fig.update_layout(\n",
    "    title='DE Convergence on 4-D Sphere Function',\n",
    "    xaxis_title='Generation',\n",
    "    yaxis_title='Best Fitness',\n",
    "    showlegend=True\n",
    ")\n",
    "fig.show()\n"
   ]
  },
  {
   "cell_type": "code",
   "execution_count": 34,
   "metadata": {
    "executionInfo": {
     "elapsed": 6,
     "status": "ok",
     "timestamp": 1748844673387,
     "user": {
      "displayName": "Vanshika Malik",
      "userId": "17973672456059116080"
     },
     "user_tz": -330
    },
    "id": "KnhbeJvEPKFH"
   },
   "outputs": [],
   "source": []
  }
 ],
 "metadata": {
  "colab": {
   "authorship_tag": "ABX9TyMvohr6tpahLDz7j1dSdxT0",
   "provenance": []
  },
  "kernelspec": {
   "display_name": "Python 3",
   "name": "python3"
  },
  "language_info": {
   "codemirror_mode": {
    "name": "ipython",
    "version": 3
   },
   "file_extension": ".py",
   "mimetype": "text/x-python",
   "name": "python",
   "nbconvert_exporter": "python",
   "pygments_lexer": "ipython3",
   "version": "3.11.13"
  }
 },
 "nbformat": 4,
 "nbformat_minor": 0
}
